{
 "cells": [
  {
   "cell_type": "markdown",
   "id": "1e3fbf3b",
   "metadata": {},
   "source": [
    "### 1. Prepare data set and store in parquet format"
   ]
  },
  {
   "cell_type": "code",
   "execution_count": 1,
   "id": "85c12fd7",
   "metadata": {
    "ExecuteTime": {
     "end_time": "2023-02-13T15:37:50.766491Z",
     "start_time": "2023-02-13T15:37:50.335843Z"
    }
   },
   "outputs": [],
   "source": [
    "import pandas as pd"
   ]
  },
  {
   "cell_type": "code",
   "execution_count": 2,
   "id": "4650c8fd",
   "metadata": {
    "ExecuteTime": {
     "end_time": "2023-02-13T15:37:51.188143Z",
     "start_time": "2023-02-13T15:37:50.767500Z"
    }
   },
   "outputs": [],
   "source": [
    "data = pd.read_csv('https://raw.githubusercontent.com/TripathiAshutosh/feast/main/Feast%20Live%20Demo/diabetes.csv')"
   ]
  },
  {
   "cell_type": "code",
   "execution_count": 3,
   "id": "a17464c7",
   "metadata": {
    "ExecuteTime": {
     "end_time": "2023-02-13T15:37:51.203138Z",
     "start_time": "2023-02-13T15:37:51.190139Z"
    }
   },
   "outputs": [
    {
     "data": {
      "text/html": [
       "<div>\n",
       "<style scoped>\n",
       "    .dataframe tbody tr th:only-of-type {\n",
       "        vertical-align: middle;\n",
       "    }\n",
       "\n",
       "    .dataframe tbody tr th {\n",
       "        vertical-align: top;\n",
       "    }\n",
       "\n",
       "    .dataframe thead th {\n",
       "        text-align: right;\n",
       "    }\n",
       "</style>\n",
       "<table border=\"1\" class=\"dataframe\">\n",
       "  <thead>\n",
       "    <tr style=\"text-align: right;\">\n",
       "      <th></th>\n",
       "      <th>Pregnancies</th>\n",
       "      <th>Glucose</th>\n",
       "      <th>BloodPressure</th>\n",
       "      <th>SkinThickness</th>\n",
       "      <th>Insulin</th>\n",
       "      <th>BMI</th>\n",
       "      <th>DiabetesPedigreeFunction</th>\n",
       "      <th>Age</th>\n",
       "      <th>Outcome</th>\n",
       "    </tr>\n",
       "  </thead>\n",
       "  <tbody>\n",
       "    <tr>\n",
       "      <th>0</th>\n",
       "      <td>6</td>\n",
       "      <td>148</td>\n",
       "      <td>72</td>\n",
       "      <td>35</td>\n",
       "      <td>0</td>\n",
       "      <td>33.6</td>\n",
       "      <td>0.627</td>\n",
       "      <td>50</td>\n",
       "      <td>1</td>\n",
       "    </tr>\n",
       "    <tr>\n",
       "      <th>1</th>\n",
       "      <td>1</td>\n",
       "      <td>85</td>\n",
       "      <td>66</td>\n",
       "      <td>29</td>\n",
       "      <td>0</td>\n",
       "      <td>26.6</td>\n",
       "      <td>0.351</td>\n",
       "      <td>31</td>\n",
       "      <td>0</td>\n",
       "    </tr>\n",
       "    <tr>\n",
       "      <th>2</th>\n",
       "      <td>8</td>\n",
       "      <td>183</td>\n",
       "      <td>64</td>\n",
       "      <td>0</td>\n",
       "      <td>0</td>\n",
       "      <td>23.3</td>\n",
       "      <td>0.672</td>\n",
       "      <td>32</td>\n",
       "      <td>1</td>\n",
       "    </tr>\n",
       "    <tr>\n",
       "      <th>3</th>\n",
       "      <td>1</td>\n",
       "      <td>89</td>\n",
       "      <td>66</td>\n",
       "      <td>23</td>\n",
       "      <td>94</td>\n",
       "      <td>28.1</td>\n",
       "      <td>0.167</td>\n",
       "      <td>21</td>\n",
       "      <td>0</td>\n",
       "    </tr>\n",
       "    <tr>\n",
       "      <th>4</th>\n",
       "      <td>0</td>\n",
       "      <td>137</td>\n",
       "      <td>40</td>\n",
       "      <td>35</td>\n",
       "      <td>168</td>\n",
       "      <td>43.1</td>\n",
       "      <td>2.288</td>\n",
       "      <td>33</td>\n",
       "      <td>1</td>\n",
       "    </tr>\n",
       "  </tbody>\n",
       "</table>\n",
       "</div>"
      ],
      "text/plain": [
       "   Pregnancies  Glucose  BloodPressure  SkinThickness  Insulin   BMI  \\\n",
       "0            6      148             72             35        0  33.6   \n",
       "1            1       85             66             29        0  26.6   \n",
       "2            8      183             64              0        0  23.3   \n",
       "3            1       89             66             23       94  28.1   \n",
       "4            0      137             40             35      168  43.1   \n",
       "\n",
       "   DiabetesPedigreeFunction  Age  Outcome  \n",
       "0                     0.627   50        1  \n",
       "1                     0.351   31        0  \n",
       "2                     0.672   32        1  \n",
       "3                     0.167   21        0  \n",
       "4                     2.288   33        1  "
      ]
     },
     "execution_count": 3,
     "metadata": {},
     "output_type": "execute_result"
    }
   ],
   "source": [
    "data.head()"
   ]
  },
  {
   "cell_type": "code",
   "execution_count": 4,
   "id": "63fbe43f",
   "metadata": {
    "ExecuteTime": {
     "end_time": "2023-02-13T15:37:53.586873Z",
     "start_time": "2023-02-13T15:37:53.579887Z"
    }
   },
   "outputs": [],
   "source": [
    "predictors_df = data.loc[:,data.columns!='Outcome']\n",
    "target_df = data['Outcome']"
   ]
  },
  {
   "cell_type": "code",
   "execution_count": 5,
   "id": "3cd33d9b",
   "metadata": {
    "ExecuteTime": {
     "end_time": "2023-02-13T15:37:54.070420Z",
     "start_time": "2023-02-13T15:37:54.051415Z"
    }
   },
   "outputs": [
    {
     "data": {
      "text/html": [
       "<div>\n",
       "<style scoped>\n",
       "    .dataframe tbody tr th:only-of-type {\n",
       "        vertical-align: middle;\n",
       "    }\n",
       "\n",
       "    .dataframe tbody tr th {\n",
       "        vertical-align: top;\n",
       "    }\n",
       "\n",
       "    .dataframe thead th {\n",
       "        text-align: right;\n",
       "    }\n",
       "</style>\n",
       "<table border=\"1\" class=\"dataframe\">\n",
       "  <thead>\n",
       "    <tr style=\"text-align: right;\">\n",
       "      <th></th>\n",
       "      <th>Pregnancies</th>\n",
       "      <th>Glucose</th>\n",
       "      <th>BloodPressure</th>\n",
       "      <th>SkinThickness</th>\n",
       "      <th>Insulin</th>\n",
       "      <th>BMI</th>\n",
       "      <th>DiabetesPedigreeFunction</th>\n",
       "      <th>Age</th>\n",
       "    </tr>\n",
       "  </thead>\n",
       "  <tbody>\n",
       "    <tr>\n",
       "      <th>0</th>\n",
       "      <td>6</td>\n",
       "      <td>148</td>\n",
       "      <td>72</td>\n",
       "      <td>35</td>\n",
       "      <td>0</td>\n",
       "      <td>33.6</td>\n",
       "      <td>0.627</td>\n",
       "      <td>50</td>\n",
       "    </tr>\n",
       "    <tr>\n",
       "      <th>1</th>\n",
       "      <td>1</td>\n",
       "      <td>85</td>\n",
       "      <td>66</td>\n",
       "      <td>29</td>\n",
       "      <td>0</td>\n",
       "      <td>26.6</td>\n",
       "      <td>0.351</td>\n",
       "      <td>31</td>\n",
       "    </tr>\n",
       "    <tr>\n",
       "      <th>2</th>\n",
       "      <td>8</td>\n",
       "      <td>183</td>\n",
       "      <td>64</td>\n",
       "      <td>0</td>\n",
       "      <td>0</td>\n",
       "      <td>23.3</td>\n",
       "      <td>0.672</td>\n",
       "      <td>32</td>\n",
       "    </tr>\n",
       "    <tr>\n",
       "      <th>3</th>\n",
       "      <td>1</td>\n",
       "      <td>89</td>\n",
       "      <td>66</td>\n",
       "      <td>23</td>\n",
       "      <td>94</td>\n",
       "      <td>28.1</td>\n",
       "      <td>0.167</td>\n",
       "      <td>21</td>\n",
       "    </tr>\n",
       "    <tr>\n",
       "      <th>4</th>\n",
       "      <td>0</td>\n",
       "      <td>137</td>\n",
       "      <td>40</td>\n",
       "      <td>35</td>\n",
       "      <td>168</td>\n",
       "      <td>43.1</td>\n",
       "      <td>2.288</td>\n",
       "      <td>33</td>\n",
       "    </tr>\n",
       "  </tbody>\n",
       "</table>\n",
       "</div>"
      ],
      "text/plain": [
       "   Pregnancies  Glucose  BloodPressure  SkinThickness  Insulin   BMI  \\\n",
       "0            6      148             72             35        0  33.6   \n",
       "1            1       85             66             29        0  26.6   \n",
       "2            8      183             64              0        0  23.3   \n",
       "3            1       89             66             23       94  28.1   \n",
       "4            0      137             40             35      168  43.1   \n",
       "\n",
       "   DiabetesPedigreeFunction  Age  \n",
       "0                     0.627   50  \n",
       "1                     0.351   31  \n",
       "2                     0.672   32  \n",
       "3                     0.167   21  \n",
       "4                     2.288   33  "
      ]
     },
     "execution_count": 5,
     "metadata": {},
     "output_type": "execute_result"
    }
   ],
   "source": [
    "predictors_df.head()"
   ]
  },
  {
   "cell_type": "markdown",
   "id": "b6ab06db",
   "metadata": {},
   "source": [
    "**Feast requires two important features which are timestamp and unique id in the dataframe for every record so we**\n",
    "**need to these two columns/features in our dataframe manually**"
   ]
  },
  {
   "cell_type": "markdown",
   "id": "0191c30c",
   "metadata": {},
   "source": [
    "**Create timestamp to be added as event_timestamp column in the data set.**"
   ]
  },
  {
   "cell_type": "code",
   "execution_count": 6,
   "id": "3e90b154",
   "metadata": {
    "ExecuteTime": {
     "end_time": "2023-02-13T15:37:56.277930Z",
     "start_time": "2023-02-13T15:37:56.265927Z"
    }
   },
   "outputs": [],
   "source": [
    "timestamps = pd.date_range(end = pd.Timestamp.now(),\n",
    "                           periods = len(data),freq = 'D').to_frame(name = 'event_timestamp', index = False)"
   ]
  },
  {
   "cell_type": "code",
   "execution_count": 7,
   "id": "dd0ac876",
   "metadata": {
    "ExecuteTime": {
     "end_time": "2023-02-13T15:37:56.761712Z",
     "start_time": "2023-02-13T15:37:56.745202Z"
    },
    "scrolled": true
   },
   "outputs": [
    {
     "data": {
      "text/html": [
       "<div>\n",
       "<style scoped>\n",
       "    .dataframe tbody tr th:only-of-type {\n",
       "        vertical-align: middle;\n",
       "    }\n",
       "\n",
       "    .dataframe tbody tr th {\n",
       "        vertical-align: top;\n",
       "    }\n",
       "\n",
       "    .dataframe thead th {\n",
       "        text-align: right;\n",
       "    }\n",
       "</style>\n",
       "<table border=\"1\" class=\"dataframe\">\n",
       "  <thead>\n",
       "    <tr style=\"text-align: right;\">\n",
       "      <th></th>\n",
       "      <th>event_timestamp</th>\n",
       "    </tr>\n",
       "  </thead>\n",
       "  <tbody>\n",
       "    <tr>\n",
       "      <th>0</th>\n",
       "      <td>2021-01-08 00:37:56.266926</td>\n",
       "    </tr>\n",
       "    <tr>\n",
       "      <th>1</th>\n",
       "      <td>2021-01-09 00:37:56.266926</td>\n",
       "    </tr>\n",
       "    <tr>\n",
       "      <th>2</th>\n",
       "      <td>2021-01-10 00:37:56.266926</td>\n",
       "    </tr>\n",
       "    <tr>\n",
       "      <th>3</th>\n",
       "      <td>2021-01-11 00:37:56.266926</td>\n",
       "    </tr>\n",
       "    <tr>\n",
       "      <th>4</th>\n",
       "      <td>2021-01-12 00:37:56.266926</td>\n",
       "    </tr>\n",
       "    <tr>\n",
       "      <th>...</th>\n",
       "      <td>...</td>\n",
       "    </tr>\n",
       "    <tr>\n",
       "      <th>763</th>\n",
       "      <td>2023-02-10 00:37:56.266926</td>\n",
       "    </tr>\n",
       "    <tr>\n",
       "      <th>764</th>\n",
       "      <td>2023-02-11 00:37:56.266926</td>\n",
       "    </tr>\n",
       "    <tr>\n",
       "      <th>765</th>\n",
       "      <td>2023-02-12 00:37:56.266926</td>\n",
       "    </tr>\n",
       "    <tr>\n",
       "      <th>766</th>\n",
       "      <td>2023-02-13 00:37:56.266926</td>\n",
       "    </tr>\n",
       "    <tr>\n",
       "      <th>767</th>\n",
       "      <td>2023-02-14 00:37:56.266926</td>\n",
       "    </tr>\n",
       "  </tbody>\n",
       "</table>\n",
       "<p>768 rows × 1 columns</p>\n",
       "</div>"
      ],
      "text/plain": [
       "               event_timestamp\n",
       "0   2021-01-08 00:37:56.266926\n",
       "1   2021-01-09 00:37:56.266926\n",
       "2   2021-01-10 00:37:56.266926\n",
       "3   2021-01-11 00:37:56.266926\n",
       "4   2021-01-12 00:37:56.266926\n",
       "..                         ...\n",
       "763 2023-02-10 00:37:56.266926\n",
       "764 2023-02-11 00:37:56.266926\n",
       "765 2023-02-12 00:37:56.266926\n",
       "766 2023-02-13 00:37:56.266926\n",
       "767 2023-02-14 00:37:56.266926\n",
       "\n",
       "[768 rows x 1 columns]"
      ]
     },
     "execution_count": 7,
     "metadata": {},
     "output_type": "execute_result"
    }
   ],
   "source": [
    "timestamps"
   ]
  },
  {
   "cell_type": "markdown",
   "id": "bf7a72d5",
   "metadata": {},
   "source": [
    "**add event_timestamp column to the predictors and target dataframes**"
   ]
  },
  {
   "cell_type": "code",
   "execution_count": 8,
   "id": "c1e5a2c6",
   "metadata": {
    "ExecuteTime": {
     "end_time": "2023-02-13T15:38:00.328577Z",
     "start_time": "2023-02-13T15:38:00.319577Z"
    }
   },
   "outputs": [],
   "source": [
    "predictors_df = pd.concat(objs = [predictors_df, timestamps], axis = 1)\n",
    "target_df = pd.concat(objs = [target_df, timestamps], axis =1)"
   ]
  },
  {
   "cell_type": "code",
   "execution_count": 9,
   "id": "463e8494",
   "metadata": {
    "ExecuteTime": {
     "end_time": "2023-02-13T15:38:01.849698Z",
     "start_time": "2023-02-13T15:38:01.833693Z"
    }
   },
   "outputs": [
    {
     "data": {
      "text/html": [
       "<div>\n",
       "<style scoped>\n",
       "    .dataframe tbody tr th:only-of-type {\n",
       "        vertical-align: middle;\n",
       "    }\n",
       "\n",
       "    .dataframe tbody tr th {\n",
       "        vertical-align: top;\n",
       "    }\n",
       "\n",
       "    .dataframe thead th {\n",
       "        text-align: right;\n",
       "    }\n",
       "</style>\n",
       "<table border=\"1\" class=\"dataframe\">\n",
       "  <thead>\n",
       "    <tr style=\"text-align: right;\">\n",
       "      <th></th>\n",
       "      <th>Pregnancies</th>\n",
       "      <th>Glucose</th>\n",
       "      <th>BloodPressure</th>\n",
       "      <th>SkinThickness</th>\n",
       "      <th>Insulin</th>\n",
       "      <th>BMI</th>\n",
       "      <th>DiabetesPedigreeFunction</th>\n",
       "      <th>Age</th>\n",
       "      <th>event_timestamp</th>\n",
       "    </tr>\n",
       "  </thead>\n",
       "  <tbody>\n",
       "    <tr>\n",
       "      <th>0</th>\n",
       "      <td>6</td>\n",
       "      <td>148</td>\n",
       "      <td>72</td>\n",
       "      <td>35</td>\n",
       "      <td>0</td>\n",
       "      <td>33.6</td>\n",
       "      <td>0.627</td>\n",
       "      <td>50</td>\n",
       "      <td>2021-01-08 00:37:56.266926</td>\n",
       "    </tr>\n",
       "    <tr>\n",
       "      <th>1</th>\n",
       "      <td>1</td>\n",
       "      <td>85</td>\n",
       "      <td>66</td>\n",
       "      <td>29</td>\n",
       "      <td>0</td>\n",
       "      <td>26.6</td>\n",
       "      <td>0.351</td>\n",
       "      <td>31</td>\n",
       "      <td>2021-01-09 00:37:56.266926</td>\n",
       "    </tr>\n",
       "    <tr>\n",
       "      <th>2</th>\n",
       "      <td>8</td>\n",
       "      <td>183</td>\n",
       "      <td>64</td>\n",
       "      <td>0</td>\n",
       "      <td>0</td>\n",
       "      <td>23.3</td>\n",
       "      <td>0.672</td>\n",
       "      <td>32</td>\n",
       "      <td>2021-01-10 00:37:56.266926</td>\n",
       "    </tr>\n",
       "    <tr>\n",
       "      <th>3</th>\n",
       "      <td>1</td>\n",
       "      <td>89</td>\n",
       "      <td>66</td>\n",
       "      <td>23</td>\n",
       "      <td>94</td>\n",
       "      <td>28.1</td>\n",
       "      <td>0.167</td>\n",
       "      <td>21</td>\n",
       "      <td>2021-01-11 00:37:56.266926</td>\n",
       "    </tr>\n",
       "    <tr>\n",
       "      <th>4</th>\n",
       "      <td>0</td>\n",
       "      <td>137</td>\n",
       "      <td>40</td>\n",
       "      <td>35</td>\n",
       "      <td>168</td>\n",
       "      <td>43.1</td>\n",
       "      <td>2.288</td>\n",
       "      <td>33</td>\n",
       "      <td>2021-01-12 00:37:56.266926</td>\n",
       "    </tr>\n",
       "  </tbody>\n",
       "</table>\n",
       "</div>"
      ],
      "text/plain": [
       "   Pregnancies  Glucose  BloodPressure  SkinThickness  Insulin   BMI  \\\n",
       "0            6      148             72             35        0  33.6   \n",
       "1            1       85             66             29        0  26.6   \n",
       "2            8      183             64              0        0  23.3   \n",
       "3            1       89             66             23       94  28.1   \n",
       "4            0      137             40             35      168  43.1   \n",
       "\n",
       "   DiabetesPedigreeFunction  Age            event_timestamp  \n",
       "0                     0.627   50 2021-01-08 00:37:56.266926  \n",
       "1                     0.351   31 2021-01-09 00:37:56.266926  \n",
       "2                     0.672   32 2021-01-10 00:37:56.266926  \n",
       "3                     0.167   21 2021-01-11 00:37:56.266926  \n",
       "4                     2.288   33 2021-01-12 00:37:56.266926  "
      ]
     },
     "execution_count": 9,
     "metadata": {},
     "output_type": "execute_result"
    }
   ],
   "source": [
    "predictors_df.head()"
   ]
  },
  {
   "cell_type": "code",
   "execution_count": 10,
   "id": "82802a05",
   "metadata": {
    "ExecuteTime": {
     "end_time": "2023-02-13T15:38:02.439096Z",
     "start_time": "2023-02-13T15:38:02.431096Z"
    }
   },
   "outputs": [
    {
     "data": {
      "text/html": [
       "<div>\n",
       "<style scoped>\n",
       "    .dataframe tbody tr th:only-of-type {\n",
       "        vertical-align: middle;\n",
       "    }\n",
       "\n",
       "    .dataframe tbody tr th {\n",
       "        vertical-align: top;\n",
       "    }\n",
       "\n",
       "    .dataframe thead th {\n",
       "        text-align: right;\n",
       "    }\n",
       "</style>\n",
       "<table border=\"1\" class=\"dataframe\">\n",
       "  <thead>\n",
       "    <tr style=\"text-align: right;\">\n",
       "      <th></th>\n",
       "      <th>Outcome</th>\n",
       "      <th>event_timestamp</th>\n",
       "    </tr>\n",
       "  </thead>\n",
       "  <tbody>\n",
       "    <tr>\n",
       "      <th>0</th>\n",
       "      <td>1</td>\n",
       "      <td>2021-01-08 00:37:56.266926</td>\n",
       "    </tr>\n",
       "    <tr>\n",
       "      <th>1</th>\n",
       "      <td>0</td>\n",
       "      <td>2021-01-09 00:37:56.266926</td>\n",
       "    </tr>\n",
       "    <tr>\n",
       "      <th>2</th>\n",
       "      <td>1</td>\n",
       "      <td>2021-01-10 00:37:56.266926</td>\n",
       "    </tr>\n",
       "    <tr>\n",
       "      <th>3</th>\n",
       "      <td>0</td>\n",
       "      <td>2021-01-11 00:37:56.266926</td>\n",
       "    </tr>\n",
       "    <tr>\n",
       "      <th>4</th>\n",
       "      <td>1</td>\n",
       "      <td>2021-01-12 00:37:56.266926</td>\n",
       "    </tr>\n",
       "  </tbody>\n",
       "</table>\n",
       "</div>"
      ],
      "text/plain": [
       "   Outcome            event_timestamp\n",
       "0        1 2021-01-08 00:37:56.266926\n",
       "1        0 2021-01-09 00:37:56.266926\n",
       "2        1 2021-01-10 00:37:56.266926\n",
       "3        0 2021-01-11 00:37:56.266926\n",
       "4        1 2021-01-12 00:37:56.266926"
      ]
     },
     "execution_count": 10,
     "metadata": {},
     "output_type": "execute_result"
    }
   ],
   "source": [
    "target_df.head()"
   ]
  },
  {
   "cell_type": "markdown",
   "id": "2c44ca88",
   "metadata": {},
   "source": [
    "**Create a patientID column to uniquely identify records with patientID and timestamp field together.**"
   ]
  },
  {
   "cell_type": "code",
   "execution_count": 11,
   "id": "7fcfc5cf",
   "metadata": {
    "ExecuteTime": {
     "end_time": "2023-02-13T15:38:04.640432Z",
     "start_time": "2023-02-13T15:38:04.625446Z"
    }
   },
   "outputs": [],
   "source": [
    "dataLen = len(data)\n",
    "idsList = list(range(dataLen))"
   ]
  },
  {
   "cell_type": "code",
   "execution_count": 12,
   "id": "cf8396a7",
   "metadata": {
    "ExecuteTime": {
     "end_time": "2023-02-13T15:38:04.958568Z",
     "start_time": "2023-02-13T15:38:04.940041Z"
    }
   },
   "outputs": [],
   "source": [
    "#idsList"
   ]
  },
  {
   "cell_type": "code",
   "execution_count": 13,
   "id": "2d29ea62",
   "metadata": {
    "ExecuteTime": {
     "end_time": "2023-02-13T15:38:05.275086Z",
     "start_time": "2023-02-13T15:38:05.257086Z"
    }
   },
   "outputs": [],
   "source": [
    "patient_ids = pd.DataFrame(data = idsList, columns = ['patient_id'])"
   ]
  },
  {
   "cell_type": "code",
   "execution_count": 14,
   "id": "94b54976",
   "metadata": {
    "ExecuteTime": {
     "end_time": "2023-02-13T15:38:05.622627Z",
     "start_time": "2023-02-13T15:38:05.604625Z"
    }
   },
   "outputs": [],
   "source": [
    "#patient_ids"
   ]
  },
  {
   "cell_type": "code",
   "execution_count": 15,
   "id": "c49e8d57",
   "metadata": {
    "ExecuteTime": {
     "end_time": "2023-02-13T15:38:05.866388Z",
     "start_time": "2023-02-13T15:38:05.860388Z"
    }
   },
   "outputs": [],
   "source": [
    "predictors_df = pd.concat(objs = [predictors_df, patient_ids], axis = 1)\n",
    "target_df = pd.concat(objs = [target_df, patient_ids], axis =1)"
   ]
  },
  {
   "cell_type": "code",
   "execution_count": 16,
   "id": "45bd3e6f",
   "metadata": {
    "ExecuteTime": {
     "end_time": "2023-02-13T15:38:06.440006Z",
     "start_time": "2023-02-13T15:38:06.421010Z"
    }
   },
   "outputs": [
    {
     "data": {
      "text/html": [
       "<div>\n",
       "<style scoped>\n",
       "    .dataframe tbody tr th:only-of-type {\n",
       "        vertical-align: middle;\n",
       "    }\n",
       "\n",
       "    .dataframe tbody tr th {\n",
       "        vertical-align: top;\n",
       "    }\n",
       "\n",
       "    .dataframe thead th {\n",
       "        text-align: right;\n",
       "    }\n",
       "</style>\n",
       "<table border=\"1\" class=\"dataframe\">\n",
       "  <thead>\n",
       "    <tr style=\"text-align: right;\">\n",
       "      <th></th>\n",
       "      <th>Pregnancies</th>\n",
       "      <th>Glucose</th>\n",
       "      <th>BloodPressure</th>\n",
       "      <th>SkinThickness</th>\n",
       "      <th>Insulin</th>\n",
       "      <th>BMI</th>\n",
       "      <th>DiabetesPedigreeFunction</th>\n",
       "      <th>Age</th>\n",
       "      <th>event_timestamp</th>\n",
       "      <th>patient_id</th>\n",
       "    </tr>\n",
       "  </thead>\n",
       "  <tbody>\n",
       "    <tr>\n",
       "      <th>0</th>\n",
       "      <td>6</td>\n",
       "      <td>148</td>\n",
       "      <td>72</td>\n",
       "      <td>35</td>\n",
       "      <td>0</td>\n",
       "      <td>33.6</td>\n",
       "      <td>0.627</td>\n",
       "      <td>50</td>\n",
       "      <td>2021-01-08 00:37:56.266926</td>\n",
       "      <td>0</td>\n",
       "    </tr>\n",
       "    <tr>\n",
       "      <th>1</th>\n",
       "      <td>1</td>\n",
       "      <td>85</td>\n",
       "      <td>66</td>\n",
       "      <td>29</td>\n",
       "      <td>0</td>\n",
       "      <td>26.6</td>\n",
       "      <td>0.351</td>\n",
       "      <td>31</td>\n",
       "      <td>2021-01-09 00:37:56.266926</td>\n",
       "      <td>1</td>\n",
       "    </tr>\n",
       "    <tr>\n",
       "      <th>2</th>\n",
       "      <td>8</td>\n",
       "      <td>183</td>\n",
       "      <td>64</td>\n",
       "      <td>0</td>\n",
       "      <td>0</td>\n",
       "      <td>23.3</td>\n",
       "      <td>0.672</td>\n",
       "      <td>32</td>\n",
       "      <td>2021-01-10 00:37:56.266926</td>\n",
       "      <td>2</td>\n",
       "    </tr>\n",
       "    <tr>\n",
       "      <th>3</th>\n",
       "      <td>1</td>\n",
       "      <td>89</td>\n",
       "      <td>66</td>\n",
       "      <td>23</td>\n",
       "      <td>94</td>\n",
       "      <td>28.1</td>\n",
       "      <td>0.167</td>\n",
       "      <td>21</td>\n",
       "      <td>2021-01-11 00:37:56.266926</td>\n",
       "      <td>3</td>\n",
       "    </tr>\n",
       "    <tr>\n",
       "      <th>4</th>\n",
       "      <td>0</td>\n",
       "      <td>137</td>\n",
       "      <td>40</td>\n",
       "      <td>35</td>\n",
       "      <td>168</td>\n",
       "      <td>43.1</td>\n",
       "      <td>2.288</td>\n",
       "      <td>33</td>\n",
       "      <td>2021-01-12 00:37:56.266926</td>\n",
       "      <td>4</td>\n",
       "    </tr>\n",
       "  </tbody>\n",
       "</table>\n",
       "</div>"
      ],
      "text/plain": [
       "   Pregnancies  Glucose  BloodPressure  SkinThickness  Insulin   BMI  \\\n",
       "0            6      148             72             35        0  33.6   \n",
       "1            1       85             66             29        0  26.6   \n",
       "2            8      183             64              0        0  23.3   \n",
       "3            1       89             66             23       94  28.1   \n",
       "4            0      137             40             35      168  43.1   \n",
       "\n",
       "   DiabetesPedigreeFunction  Age            event_timestamp  patient_id  \n",
       "0                     0.627   50 2021-01-08 00:37:56.266926           0  \n",
       "1                     0.351   31 2021-01-09 00:37:56.266926           1  \n",
       "2                     0.672   32 2021-01-10 00:37:56.266926           2  \n",
       "3                     0.167   21 2021-01-11 00:37:56.266926           3  \n",
       "4                     2.288   33 2021-01-12 00:37:56.266926           4  "
      ]
     },
     "execution_count": 16,
     "metadata": {},
     "output_type": "execute_result"
    }
   ],
   "source": [
    "predictors_df.head()"
   ]
  },
  {
   "cell_type": "code",
   "execution_count": 17,
   "id": "504c5396",
   "metadata": {
    "ExecuteTime": {
     "end_time": "2023-02-13T15:38:07.692234Z",
     "start_time": "2023-02-13T15:38:07.674234Z"
    }
   },
   "outputs": [
    {
     "name": "stdout",
     "output_type": "stream",
     "text": [
      "<class 'pandas.core.frame.DataFrame'>\n",
      "RangeIndex: 768 entries, 0 to 767\n",
      "Data columns (total 10 columns):\n",
      " #   Column                    Non-Null Count  Dtype         \n",
      "---  ------                    --------------  -----         \n",
      " 0   Pregnancies               768 non-null    int64         \n",
      " 1   Glucose                   768 non-null    int64         \n",
      " 2   BloodPressure             768 non-null    int64         \n",
      " 3   SkinThickness             768 non-null    int64         \n",
      " 4   Insulin                   768 non-null    int64         \n",
      " 5   BMI                       768 non-null    float64       \n",
      " 6   DiabetesPedigreeFunction  768 non-null    float64       \n",
      " 7   Age                       768 non-null    int64         \n",
      " 8   event_timestamp           768 non-null    datetime64[ns]\n",
      " 9   patient_id                768 non-null    int64         \n",
      "dtypes: datetime64[ns](1), float64(2), int64(7)\n",
      "memory usage: 60.1 KB\n"
     ]
    }
   ],
   "source": [
    "predictors_df.info()"
   ]
  },
  {
   "cell_type": "code",
   "execution_count": 18,
   "id": "3fa8524f",
   "metadata": {
    "ExecuteTime": {
     "end_time": "2023-02-13T15:38:08.158579Z",
     "start_time": "2023-02-13T15:38:08.120575Z"
    }
   },
   "outputs": [],
   "source": [
    "predictors_df.to_parquet(path='predictors_df.parquet')\n",
    "target_df.to_parquet(path='target_df.parquet')"
   ]
  },
  {
   "cell_type": "code",
   "execution_count": 19,
   "id": "bb10de83",
   "metadata": {
    "ExecuteTime": {
     "end_time": "2023-02-13T15:38:10.717603Z",
     "start_time": "2023-02-13T15:38:10.708602Z"
    }
   },
   "outputs": [],
   "source": [
    "#!pip install feast"
   ]
  },
  {
   "cell_type": "code",
   "execution_count": 20,
   "id": "f81b5c31",
   "metadata": {
    "ExecuteTime": {
     "end_time": "2023-02-13T15:38:14.585585Z",
     "start_time": "2023-02-13T15:38:12.106682Z"
    }
   },
   "outputs": [
    {
     "name": "stdout",
     "output_type": "stream",
     "text": [
      "Feast SDK Version: \"feast 0.29.0\"\n"
     ]
    }
   ],
   "source": [
    "!feast version"
   ]
  },
  {
   "cell_type": "markdown",
   "id": "4ee441fc",
   "metadata": {},
   "source": [
    "### 2. Do feast init\n",
    "\n",
    "this is option as it creates the feast repo directory structure. you can create a directory using mkdir and inside that create a feature_Store.yaml file and a feature_definitions.py file. but its better to use feast init and then modify the respective files."
   ]
  },
  {
   "cell_type": "code",
   "execution_count": 20,
   "id": "fb8361f5",
   "metadata": {
    "ExecuteTime": {
     "end_time": "2023-02-13T03:42:09.834629Z",
     "start_time": "2023-02-13T03:42:06.500286Z"
    }
   },
   "outputs": [
    {
     "name": "stdout",
     "output_type": "stream",
     "text": [
      "\n",
      "Creating a new Feast repository in C:\\Users\\Furqan Ali\\Desktop\\python\\MLOps\\feast\\feature_repo.\n",
      "\n"
     ]
    }
   ],
   "source": [
    "!feast init feature_repo"
   ]
  },
  {
   "cell_type": "markdown",
   "id": "8e0b586a",
   "metadata": {},
   "source": [
    "### 3. Update feature store yaml file if needed\n",
    "\n",
    "you can update the online store and local store paths in feature_store.yaml file if needed."
   ]
  },
  {
   "cell_type": "markdown",
   "id": "587073cf",
   "metadata": {},
   "source": [
    "### 4. Define Feature definitions in a python file inside feature repo directory (created using feast init)\n",
    "This step is known as register and deploy the features\n",
    "go inside the feature_repo folder in the github you will see the feature_definition.py file with updated code. modify as per to your dataset features."
   ]
  },
  {
   "cell_type": "markdown",
   "id": "8fceb1f4",
   "metadata": {},
   "source": [
    "### 5. Do feast apply\n",
    "\n",
    "do feast apply from inside the feature_repo directory"
   ]
  },
  {
   "cell_type": "code",
   "execution_count": 29,
   "id": "1a9acb85",
   "metadata": {
    "ExecuteTime": {
     "end_time": "2023-02-13T23:50:29.756058Z",
     "start_time": "2023-02-13T23:50:29.742008Z"
    }
   },
   "outputs": [
    {
     "data": {
      "text/plain": [
       "'C:\\\\Users\\\\Furqan Ali\\\\Desktop\\\\python\\\\MLOps\\\\feast\\\\feature_repo\\\\feature_repo'"
      ]
     },
     "execution_count": 29,
     "metadata": {},
     "output_type": "execute_result"
    }
   ],
   "source": [
    "pwd"
   ]
  },
  {
   "cell_type": "code",
   "execution_count": 27,
   "id": "537b547a",
   "metadata": {
    "ExecuteTime": {
     "end_time": "2023-02-13T23:50:16.939236Z",
     "start_time": "2023-02-13T23:50:16.926189Z"
    }
   },
   "outputs": [
    {
     "name": "stdout",
     "output_type": "stream",
     "text": [
      "[WinError 2] The system cannot find the file specified: 'feature_repo'\n",
      "C:\\Users\\Furqan Ali\\Desktop\\python\\MLOps\\feast\\feature_repo\\feature_repo\n",
      "[WinError 2] The system cannot find the file specified: 'feature_repo'\n",
      "C:\\Users\\Furqan Ali\\Desktop\\python\\MLOps\\feast\\feature_repo\\feature_repo\n"
     ]
    }
   ],
   "source": [
    "%cd feature_repo\n",
    "%cd feature_repo"
   ]
  },
  {
   "cell_type": "code",
   "execution_count": 30,
   "id": "94f903cf",
   "metadata": {
    "ExecuteTime": {
     "end_time": "2023-02-14T02:39:25.297709Z",
     "start_time": "2023-02-14T02:39:19.395365Z"
    }
   },
   "outputs": [
    {
     "name": "stdout",
     "output_type": "stream",
     "text": [
      "Created entity patient_id\n",
      "Created feature view target_df_feature_view\n",
      "Created feature view predictors_df_feature_view\n",
      "\n",
      "Created sqlite table feature_repo_predictors_df_feature_view\n",
      "Created sqlite table feature_repo_target_df_feature_view\n",
      "\n"
     ]
    },
    {
     "name": "stderr",
     "output_type": "stream",
     "text": [
      "c:\\users\\furqan ali\\desktop\\python\\env\\lib\\site-packages\\feast\\infra\\offline_stores\\file_source.py:161: FutureWarning: 'ParquetDataset.schema' attribute is deprecated as of pyarrow 5.0.0 and will be removed in a future version. Specify 'use_legacy_dataset=False' while constructing the ParquetDataset, and then use the '.schema' attribute instead (which will return an Arrow schema instead of a Parquet schema).\n",
      "  schema = ParquetDataset(path).schema.to_arrow_schema()\n"
     ]
    }
   ],
   "source": [
    "!feast apply"
   ]
  },
  {
   "cell_type": "markdown",
   "id": "abf73fa0",
   "metadata": {},
   "source": [
    "### 6. Generate Training Data Set"
   ]
  },
  {
   "cell_type": "code",
   "execution_count": 31,
   "id": "0cccf8ee",
   "metadata": {
    "ExecuteTime": {
     "end_time": "2023-02-14T02:39:46.078806Z",
     "start_time": "2023-02-14T02:39:45.841979Z"
    }
   },
   "outputs": [
    {
     "name": "stderr",
     "output_type": "stream",
     "text": [
      "c:\\users\\furqan ali\\desktop\\python\\env\\lib\\site-packages\\feast\\feature_store.py:1185: RuntimeWarning: Saving dataset is an experimental feature. This API is unstable and it could and most probably will be changed in the future. We do not guarantee that future changes will maintain backward compatibility.\n",
      "  warnings.warn(\n"
     ]
    }
   ],
   "source": [
    "from feast import FeatureStore\n",
    "from feast.infra.offline_stores.file_source import SavedDatasetFileStorage\n",
    "\n",
    "store = FeatureStore(repo_path='.')\n",
    "\n",
    "entity_df = pd.read_parquet(path = 'data/target_df.parquet')\n",
    "\n",
    "training_data = store.get_historical_features(\n",
    "entity_df = entity_df,\n",
    "    features = [\n",
    "        \"predictors_df_feature_view:Pregnancies\",\n",
    "        \"predictors_df_feature_view:Glucose\",\n",
    "        \"predictors_df_feature_view:BloodPressure\",\n",
    "        \"predictors_df_feature_view:SkinThickness\",\n",
    "        \"predictors_df_feature_view:Insulin\",\n",
    "        \"predictors_df_feature_view:BMI\",\n",
    "        \"predictors_df_feature_view:DiabetesPedigreeFunction\",\n",
    "        \"predictors_df_feature_view:Age\",\n",
    "               ]\n",
    ")\n",
    "\n",
    "dataset = store.create_saved_dataset(\n",
    "from_=training_data,\n",
    "    name = \"diabetes_dataset\",\n",
    "    storage = SavedDatasetFileStorage('data/diabetes_dataset.parquet')\n",
    ")"
   ]
  },
  {
   "cell_type": "code",
   "execution_count": 33,
   "id": "55f4ce6b",
   "metadata": {
    "ExecuteTime": {
     "end_time": "2023-02-14T02:41:24.980528Z",
     "start_time": "2023-02-14T02:41:24.886010Z"
    }
   },
   "outputs": [
    {
     "data": {
      "text/html": [
       "<div>\n",
       "<style scoped>\n",
       "    .dataframe tbody tr th:only-of-type {\n",
       "        vertical-align: middle;\n",
       "    }\n",
       "\n",
       "    .dataframe tbody tr th {\n",
       "        vertical-align: top;\n",
       "    }\n",
       "\n",
       "    .dataframe thead th {\n",
       "        text-align: right;\n",
       "    }\n",
       "</style>\n",
       "<table border=\"1\" class=\"dataframe\">\n",
       "  <thead>\n",
       "    <tr style=\"text-align: right;\">\n",
       "      <th></th>\n",
       "      <th>Outcome</th>\n",
       "      <th>event_timestamp</th>\n",
       "      <th>patient_id</th>\n",
       "      <th>Pregnancies</th>\n",
       "      <th>Glucose</th>\n",
       "      <th>BloodPressure</th>\n",
       "      <th>SkinThickness</th>\n",
       "      <th>Insulin</th>\n",
       "      <th>BMI</th>\n",
       "      <th>DiabetesPedigreeFunction</th>\n",
       "      <th>Age</th>\n",
       "    </tr>\n",
       "  </thead>\n",
       "  <tbody>\n",
       "    <tr>\n",
       "      <th>0</th>\n",
       "      <td>1</td>\n",
       "      <td>2021-01-07 12:39:48.533424+00:00</td>\n",
       "      <td>0</td>\n",
       "      <td>6</td>\n",
       "      <td>148</td>\n",
       "      <td>72</td>\n",
       "      <td>35</td>\n",
       "      <td>0</td>\n",
       "      <td>33.6</td>\n",
       "      <td>0.627</td>\n",
       "      <td>50</td>\n",
       "    </tr>\n",
       "    <tr>\n",
       "      <th>1</th>\n",
       "      <td>0</td>\n",
       "      <td>2021-01-08 12:39:48.533424+00:00</td>\n",
       "      <td>1</td>\n",
       "      <td>1</td>\n",
       "      <td>85</td>\n",
       "      <td>66</td>\n",
       "      <td>29</td>\n",
       "      <td>0</td>\n",
       "      <td>26.6</td>\n",
       "      <td>0.351</td>\n",
       "      <td>31</td>\n",
       "    </tr>\n",
       "    <tr>\n",
       "      <th>2</th>\n",
       "      <td>1</td>\n",
       "      <td>2021-01-09 12:39:48.533424+00:00</td>\n",
       "      <td>2</td>\n",
       "      <td>8</td>\n",
       "      <td>183</td>\n",
       "      <td>64</td>\n",
       "      <td>0</td>\n",
       "      <td>0</td>\n",
       "      <td>23.3</td>\n",
       "      <td>0.672</td>\n",
       "      <td>32</td>\n",
       "    </tr>\n",
       "    <tr>\n",
       "      <th>3</th>\n",
       "      <td>0</td>\n",
       "      <td>2021-01-10 12:39:48.533424+00:00</td>\n",
       "      <td>3</td>\n",
       "      <td>1</td>\n",
       "      <td>89</td>\n",
       "      <td>66</td>\n",
       "      <td>23</td>\n",
       "      <td>94</td>\n",
       "      <td>28.1</td>\n",
       "      <td>0.167</td>\n",
       "      <td>21</td>\n",
       "    </tr>\n",
       "    <tr>\n",
       "      <th>4</th>\n",
       "      <td>1</td>\n",
       "      <td>2021-01-11 12:39:48.533424+00:00</td>\n",
       "      <td>4</td>\n",
       "      <td>0</td>\n",
       "      <td>137</td>\n",
       "      <td>40</td>\n",
       "      <td>35</td>\n",
       "      <td>168</td>\n",
       "      <td>43.1</td>\n",
       "      <td>2.288</td>\n",
       "      <td>33</td>\n",
       "    </tr>\n",
       "    <tr>\n",
       "      <th>...</th>\n",
       "      <td>...</td>\n",
       "      <td>...</td>\n",
       "      <td>...</td>\n",
       "      <td>...</td>\n",
       "      <td>...</td>\n",
       "      <td>...</td>\n",
       "      <td>...</td>\n",
       "      <td>...</td>\n",
       "      <td>...</td>\n",
       "      <td>...</td>\n",
       "      <td>...</td>\n",
       "    </tr>\n",
       "    <tr>\n",
       "      <th>763</th>\n",
       "      <td>0</td>\n",
       "      <td>2023-02-09 12:39:48.533424+00:00</td>\n",
       "      <td>763</td>\n",
       "      <td>10</td>\n",
       "      <td>101</td>\n",
       "      <td>76</td>\n",
       "      <td>48</td>\n",
       "      <td>180</td>\n",
       "      <td>32.9</td>\n",
       "      <td>0.171</td>\n",
       "      <td>63</td>\n",
       "    </tr>\n",
       "    <tr>\n",
       "      <th>764</th>\n",
       "      <td>0</td>\n",
       "      <td>2023-02-10 12:39:48.533424+00:00</td>\n",
       "      <td>764</td>\n",
       "      <td>2</td>\n",
       "      <td>122</td>\n",
       "      <td>70</td>\n",
       "      <td>27</td>\n",
       "      <td>0</td>\n",
       "      <td>36.8</td>\n",
       "      <td>0.340</td>\n",
       "      <td>27</td>\n",
       "    </tr>\n",
       "    <tr>\n",
       "      <th>765</th>\n",
       "      <td>0</td>\n",
       "      <td>2023-02-11 12:39:48.533424+00:00</td>\n",
       "      <td>765</td>\n",
       "      <td>5</td>\n",
       "      <td>121</td>\n",
       "      <td>72</td>\n",
       "      <td>23</td>\n",
       "      <td>112</td>\n",
       "      <td>26.2</td>\n",
       "      <td>0.245</td>\n",
       "      <td>30</td>\n",
       "    </tr>\n",
       "    <tr>\n",
       "      <th>766</th>\n",
       "      <td>1</td>\n",
       "      <td>2023-02-12 12:39:48.533424+00:00</td>\n",
       "      <td>766</td>\n",
       "      <td>1</td>\n",
       "      <td>126</td>\n",
       "      <td>60</td>\n",
       "      <td>0</td>\n",
       "      <td>0</td>\n",
       "      <td>30.1</td>\n",
       "      <td>0.349</td>\n",
       "      <td>47</td>\n",
       "    </tr>\n",
       "    <tr>\n",
       "      <th>767</th>\n",
       "      <td>0</td>\n",
       "      <td>2023-02-13 12:39:48.533424+00:00</td>\n",
       "      <td>767</td>\n",
       "      <td>1</td>\n",
       "      <td>93</td>\n",
       "      <td>70</td>\n",
       "      <td>31</td>\n",
       "      <td>0</td>\n",
       "      <td>30.4</td>\n",
       "      <td>0.315</td>\n",
       "      <td>23</td>\n",
       "    </tr>\n",
       "  </tbody>\n",
       "</table>\n",
       "<p>768 rows × 11 columns</p>\n",
       "</div>"
      ],
      "text/plain": [
       "     Outcome                  event_timestamp  patient_id  Pregnancies  \\\n",
       "0          1 2021-01-07 12:39:48.533424+00:00           0            6   \n",
       "1          0 2021-01-08 12:39:48.533424+00:00           1            1   \n",
       "2          1 2021-01-09 12:39:48.533424+00:00           2            8   \n",
       "3          0 2021-01-10 12:39:48.533424+00:00           3            1   \n",
       "4          1 2021-01-11 12:39:48.533424+00:00           4            0   \n",
       "..       ...                              ...         ...          ...   \n",
       "763        0 2023-02-09 12:39:48.533424+00:00         763           10   \n",
       "764        0 2023-02-10 12:39:48.533424+00:00         764            2   \n",
       "765        0 2023-02-11 12:39:48.533424+00:00         765            5   \n",
       "766        1 2023-02-12 12:39:48.533424+00:00         766            1   \n",
       "767        0 2023-02-13 12:39:48.533424+00:00         767            1   \n",
       "\n",
       "     Glucose  BloodPressure  SkinThickness  Insulin   BMI  \\\n",
       "0        148             72             35        0  33.6   \n",
       "1         85             66             29        0  26.6   \n",
       "2        183             64              0        0  23.3   \n",
       "3         89             66             23       94  28.1   \n",
       "4        137             40             35      168  43.1   \n",
       "..       ...            ...            ...      ...   ...   \n",
       "763      101             76             48      180  32.9   \n",
       "764      122             70             27        0  36.8   \n",
       "765      121             72             23      112  26.2   \n",
       "766      126             60              0        0  30.1   \n",
       "767       93             70             31        0  30.4   \n",
       "\n",
       "     DiabetesPedigreeFunction  Age  \n",
       "0                       0.627   50  \n",
       "1                       0.351   31  \n",
       "2                       0.672   32  \n",
       "3                       0.167   21  \n",
       "4                       2.288   33  \n",
       "..                        ...  ...  \n",
       "763                     0.171   63  \n",
       "764                     0.340   27  \n",
       "765                     0.245   30  \n",
       "766                     0.349   47  \n",
       "767                     0.315   23  \n",
       "\n",
       "[768 rows x 11 columns]"
      ]
     },
     "execution_count": 33,
     "metadata": {},
     "output_type": "execute_result"
    }
   ],
   "source": [
    "training_data.to_df()"
   ]
  },
  {
   "cell_type": "markdown",
   "id": "3df637b5",
   "metadata": {},
   "source": [
    "### 7. Model Training"
   ]
  },
  {
   "cell_type": "code",
   "execution_count": 34,
   "id": "fd723a03",
   "metadata": {
    "ExecuteTime": {
     "end_time": "2023-02-14T02:41:39.369922Z",
     "start_time": "2023-02-14T02:41:37.587119Z"
    }
   },
   "outputs": [
    {
     "name": "stderr",
     "output_type": "stream",
     "text": [
      "c:\\users\\furqan ali\\desktop\\python\\env\\lib\\site-packages\\feast\\feature_store.py:1238: RuntimeWarning: Retrieving datasets is an experimental feature. This API is unstable and it could and most probably will be changed in the future. We do not guarantee that future changes will maintain backward compatibility.\n",
      "  warnings.warn(\n",
      "c:\\users\\furqan ali\\desktop\\python\\env\\lib\\site-packages\\sklearn\\linear_model\\_logistic.py:444: ConvergenceWarning: lbfgs failed to converge (status=1):\n",
      "STOP: TOTAL NO. of ITERATIONS REACHED LIMIT.\n",
      "\n",
      "Increase the number of iterations (max_iter) or scale the data as shown in:\n",
      "    https://scikit-learn.org/stable/modules/preprocessing.html\n",
      "Please also refer to the documentation for alternative solver options:\n",
      "    https://scikit-learn.org/stable/modules/linear_model.html#logistic-regression\n",
      "  n_iter_i = _check_optimize_result(\n"
     ]
    },
    {
     "data": {
      "text/plain": [
       "['model.joblib']"
      ]
     },
     "execution_count": 34,
     "metadata": {},
     "output_type": "execute_result"
    }
   ],
   "source": [
    "# Importing dependencies\n",
    "from feast import FeatureStore\n",
    "from sklearn.model_selection import train_test_split\n",
    "from sklearn.linear_model import LogisticRegression\n",
    "from joblib import dump\n",
    "\n",
    "# Getting our FeatureStore\n",
    "store = FeatureStore(repo_path=\".\")\n",
    "\n",
    "# Retrieving the saved dataset and converting it to a DataFrame\n",
    "training_df = store.get_saved_dataset(name=\"diabetes_dataset\").to_df()\n",
    "\n",
    "# Separating the features and labels\n",
    "y = training_df['Outcome']\n",
    "X = training_df.drop(\n",
    "    labels=['Outcome', 'event_timestamp', \"patient_id\"], \n",
    "    axis=1)\n",
    "\n",
    "# Splitting the dataset into train and test sets\n",
    "X_train, X_test, y_train, y_test = train_test_split(X, \n",
    "                                                    y, \n",
    "                                                    stratify=y)\n",
    "\n",
    "# Creating and training LogisticRegression\n",
    "reg = LogisticRegression()\n",
    "reg.fit(X=X_train[sorted(X_train)], y=y_train)\n",
    "\n",
    "# Saving the model\n",
    "dump(value=reg, filename=\"model.joblib\")"
   ]
  },
  {
   "cell_type": "markdown",
   "id": "13e48a26",
   "metadata": {},
   "source": [
    "### 8. Prepare online feature store\n",
    "(Loading the features to online store)\n",
    "\n",
    "There are two ways you can use to load features to your online store \n",
    "- materialize\n",
    "\n",
    "materialize loads the latest features between two dates.\n",
    "\n",
    "`feast materialize 2020–01–01T00:00:00 2022–01–01T00:00:00`\n",
    "\n",
    "- materialize-incremental\n",
    "\n",
    "materialize-incremental loads features up to the provided end date:\n",
    "\n",
    "`feast materialize-incremental 2022–01–01T00:00:00`"
   ]
  },
  {
   "cell_type": "code",
   "execution_count": 35,
   "id": "cf3f1ed5",
   "metadata": {
    "ExecuteTime": {
     "end_time": "2023-02-14T02:42:05.351448Z",
     "start_time": "2023-02-14T02:42:05.230919Z"
    }
   },
   "outputs": [
    {
     "name": "stdout",
     "output_type": "stream",
     "text": [
      "Materializing \u001b[1m\u001b[32m2\u001b[0m feature views to \u001b[1m\u001b[32m2023-02-14 11:42:05+09:00\u001b[0m into the \u001b[1m\u001b[32msqlite\u001b[0m online store.\n",
      "\n",
      "\u001b[1m\u001b[32mtarget_df_feature_view\u001b[0m from \u001b[1m\u001b[32m2023-02-12 02:42:05+09:00\u001b[0m to \u001b[1m\u001b[32m2023-02-14 11:42:05+09:00\u001b[0m:\n"
     ]
    },
    {
     "name": "stderr",
     "output_type": "stream",
     "text": [
      "100%|████████████████████████████████████████████████████████████████| 2/2 [00:00<00:00, 181.80it/s]\n"
     ]
    },
    {
     "name": "stdout",
     "output_type": "stream",
     "text": [
      "\u001b[1m\u001b[32mpredictors_df_feature_view\u001b[0m from \u001b[1m\u001b[32m2023-02-12 02:42:05+09:00\u001b[0m to \u001b[1m\u001b[32m2023-02-14 20:42:05+09:00\u001b[0m:\n"
     ]
    },
    {
     "name": "stderr",
     "output_type": "stream",
     "text": [
      "100%|████████████████████████████████████████████████████████████████| 2/2 [00:00<00:00, 500.19it/s]\n"
     ]
    }
   ],
   "source": [
    "# Importing dependencies\n",
    "from feast import FeatureStore\n",
    "from datetime import datetime, timedelta\n",
    "\n",
    "# Getting our FeatureStore\n",
    "store = FeatureStore(repo_path=\".\")\n",
    "\n",
    "store.materialize_incremental(end_date = datetime.now())"
   ]
  },
  {
   "cell_type": "markdown",
   "id": "2c91aad6",
   "metadata": {},
   "source": [
    "### 9. Get online features for prediction"
   ]
  },
  {
   "cell_type": "code",
   "execution_count": 36,
   "id": "161ad8f5",
   "metadata": {
    "ExecuteTime": {
     "end_time": "2023-02-14T02:42:11.323563Z",
     "start_time": "2023-02-14T02:42:11.300560Z"
    }
   },
   "outputs": [],
   "source": [
    "# Importing dependencies\n",
    "from feast import FeatureStore\n",
    "import pandas as pd\n",
    "from joblib import load\n",
    "\n",
    "# Getting our FeatureStore\n",
    "store = FeatureStore(repo_path=\".\")\n",
    "\n",
    "# Defining our features names\n",
    "feast_features = [\n",
    "        \"predictors_df_feature_view:Pregnancies\",\n",
    "        \"predictors_df_feature_view:Glucose\",\n",
    "        \"predictors_df_feature_view:BloodPressure\",\n",
    "        \"predictors_df_feature_view:SkinThickness\",\n",
    "        \"predictors_df_feature_view:Insulin\",\n",
    "        \"predictors_df_feature_view:BMI\",\n",
    "        \"predictors_df_feature_view:DiabetesPedigreeFunction\",\n",
    "        \"predictors_df_feature_view:Age\",\n",
    "    ]\n",
    "\n",
    "# Getting the latest features\n",
    "features = store.get_online_features(\n",
    "    features=feast_features,    \n",
    "    entity_rows=[{\"patient_id\": 767}, {\"patient_id\": 766}]\n",
    ").to_dict()\n",
    "\n",
    "# Converting the features to a DataFrame\n",
    "features_df = pd.DataFrame.from_dict(data=features)\n",
    "\n"
   ]
  },
  {
   "cell_type": "code",
   "execution_count": 37,
   "id": "25c169b5",
   "metadata": {
    "ExecuteTime": {
     "end_time": "2023-02-14T02:42:12.970228Z",
     "start_time": "2023-02-14T02:42:12.956228Z"
    }
   },
   "outputs": [
    {
     "data": {
      "text/html": [
       "<div>\n",
       "<style scoped>\n",
       "    .dataframe tbody tr th:only-of-type {\n",
       "        vertical-align: middle;\n",
       "    }\n",
       "\n",
       "    .dataframe tbody tr th {\n",
       "        vertical-align: top;\n",
       "    }\n",
       "\n",
       "    .dataframe thead th {\n",
       "        text-align: right;\n",
       "    }\n",
       "</style>\n",
       "<table border=\"1\" class=\"dataframe\">\n",
       "  <thead>\n",
       "    <tr style=\"text-align: right;\">\n",
       "      <th></th>\n",
       "      <th>patient_id</th>\n",
       "      <th>Age</th>\n",
       "      <th>Insulin</th>\n",
       "      <th>BMI</th>\n",
       "      <th>Pregnancies</th>\n",
       "      <th>SkinThickness</th>\n",
       "      <th>DiabetesPedigreeFunction</th>\n",
       "      <th>Glucose</th>\n",
       "      <th>BloodPressure</th>\n",
       "    </tr>\n",
       "  </thead>\n",
       "  <tbody>\n",
       "    <tr>\n",
       "      <th>0</th>\n",
       "      <td>767</td>\n",
       "      <td>23</td>\n",
       "      <td>0</td>\n",
       "      <td>30.4</td>\n",
       "      <td>1</td>\n",
       "      <td>31</td>\n",
       "      <td>0.315</td>\n",
       "      <td>93</td>\n",
       "      <td>70</td>\n",
       "    </tr>\n",
       "    <tr>\n",
       "      <th>1</th>\n",
       "      <td>766</td>\n",
       "      <td>47</td>\n",
       "      <td>0</td>\n",
       "      <td>30.1</td>\n",
       "      <td>1</td>\n",
       "      <td>0</td>\n",
       "      <td>0.349</td>\n",
       "      <td>126</td>\n",
       "      <td>60</td>\n",
       "    </tr>\n",
       "  </tbody>\n",
       "</table>\n",
       "</div>"
      ],
      "text/plain": [
       "   patient_id  Age  Insulin   BMI  Pregnancies  SkinThickness  \\\n",
       "0         767   23        0  30.4            1             31   \n",
       "1         766   47        0  30.1            1              0   \n",
       "\n",
       "   DiabetesPedigreeFunction  Glucose  BloodPressure  \n",
       "0                     0.315       93             70  \n",
       "1                     0.349      126             60  "
      ]
     },
     "execution_count": 37,
     "metadata": {},
     "output_type": "execute_result"
    }
   ],
   "source": [
    "features_df.head()"
   ]
  },
  {
   "cell_type": "markdown",
   "id": "82ad0b65",
   "metadata": {},
   "source": [
    "### 10. Call the predict function and see the output"
   ]
  },
  {
   "cell_type": "code",
   "execution_count": 38,
   "id": "d1a6d370",
   "metadata": {
    "ExecuteTime": {
     "end_time": "2023-02-14T02:42:21.025193Z",
     "start_time": "2023-02-14T02:42:21.004195Z"
    }
   },
   "outputs": [
    {
     "name": "stdout",
     "output_type": "stream",
     "text": [
      "[0 0]\n"
     ]
    }
   ],
   "source": [
    "# Loading our model and doing inference\n",
    "reg = load(\"model.joblib\")\n",
    "predictions = reg.predict(features_df[sorted(features_df.drop(\"patient_id\", axis=1))])\n",
    "print(predictions)"
   ]
  },
  {
   "cell_type": "markdown",
   "id": "18e62f34",
   "metadata": {},
   "source": [
    "### References:"
   ]
  },
  {
   "cell_type": "markdown",
   "id": "a923b96b",
   "metadata": {},
   "source": [
    "https://docs.feast.dev/getting-started/quickstart"
   ]
  },
  {
   "cell_type": "code",
   "execution_count": null,
   "id": "46383c97",
   "metadata": {},
   "outputs": [],
   "source": []
  }
 ],
 "metadata": {
  "kernelspec": {
   "display_name": "Python 3 (ipykernel)",
   "language": "python",
   "name": "python3"
  },
  "language_info": {
   "codemirror_mode": {
    "name": "ipython",
    "version": 3
   },
   "file_extension": ".py",
   "mimetype": "text/x-python",
   "name": "python",
   "nbconvert_exporter": "python",
   "pygments_lexer": "ipython3",
   "version": "3.8.6"
  }
 },
 "nbformat": 4,
 "nbformat_minor": 5
}
